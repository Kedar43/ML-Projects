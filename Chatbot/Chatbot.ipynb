{
  "cells": [
    {
      "cell_type": "markdown",
      "metadata": {
        "id": "view-in-github",
        "colab_type": "text"
      },
      "source": [
        "<a href=\"https://colab.research.google.com/github/Kedar43/ML-projects/blob/main/Chatbot.ipynb\" target=\"_parent\"><img src=\"https://colab.research.google.com/assets/colab-badge.svg\" alt=\"Open In Colab\"/></a>"
      ]
    },
    {
      "cell_type": "code",
      "execution_count": 11,
      "metadata": {
        "id": "QNt7tOcEC48w"
      },
      "outputs": [],
      "source": [
        "import nltk\n",
        "import numpy as np"
      ]
    },
    {
      "cell_type": "code",
      "execution_count": 25,
      "metadata": {
        "colab": {
          "base_uri": "https://localhost:8080/"
        },
        "id": "sgKLrIjRC486",
        "outputId": "b9f37346-73d9-44f4-b75a-75be8eea887c"
      },
      "outputs": [
        {
          "output_type": "stream",
          "name": "stderr",
          "text": [
            "[nltk_data] Downloading package punkt to /root/nltk_data...\n",
            "[nltk_data]   Package punkt is already up-to-date!\n",
            "[nltk_data] Downloading package stopwords to /root/nltk_data...\n",
            "[nltk_data]   Package stopwords is already up-to-date!\n",
            "[nltk_data] Downloading package omw-1.4 to /root/nltk_data...\n",
            "[nltk_data]   Unzipping corpora/omw-1.4.zip.\n"
          ]
        },
        {
          "output_type": "execute_result",
          "data": {
            "text/plain": [
              "True"
            ]
          },
          "metadata": {},
          "execution_count": 25
        }
      ],
      "source": [
        "nltk.download('punkt')\n",
        "nltk.download('stopwords')\n",
        "nltk.download('omw-1.4')"
      ]
    },
    {
      "cell_type": "code",
      "execution_count": 26,
      "metadata": {
        "id": "Cy4x4jMmC488"
      },
      "outputs": [],
      "source": [
        "from nltk.tokenize import word_tokenize\n",
        "from nltk.corpus import stopwords\n",
        "stop_words = stopwords.words('english')\n",
        "\n",
        "from nltk.stem import WordNetLemmatizer"
      ]
    },
    {
      "cell_type": "code",
      "execution_count": 27,
      "metadata": {
        "colab": {
          "base_uri": "https://localhost:8080/"
        },
        "id": "7Q3fIVZVdYDG",
        "outputId": "62b66550-9306-47ee-8916-ab0eeb57e00f"
      },
      "outputs": [
        {
          "output_type": "execute_result",
          "data": {
            "text/plain": [
              "['i',\n",
              " 'me',\n",
              " 'my',\n",
              " 'myself',\n",
              " 'we',\n",
              " 'our',\n",
              " 'ours',\n",
              " 'ourselves',\n",
              " 'you',\n",
              " \"you're\",\n",
              " \"you've\",\n",
              " \"you'll\",\n",
              " \"you'd\",\n",
              " 'your',\n",
              " 'yours',\n",
              " 'yourself',\n",
              " 'yourselves',\n",
              " 'he',\n",
              " 'him',\n",
              " 'his',\n",
              " 'himself',\n",
              " 'she',\n",
              " \"she's\",\n",
              " 'her',\n",
              " 'hers',\n",
              " 'herself',\n",
              " 'it',\n",
              " \"it's\",\n",
              " 'its',\n",
              " 'itself',\n",
              " 'they',\n",
              " 'them',\n",
              " 'their',\n",
              " 'theirs',\n",
              " 'themselves',\n",
              " 'what',\n",
              " 'which',\n",
              " 'who',\n",
              " 'whom',\n",
              " 'this',\n",
              " 'that',\n",
              " \"that'll\",\n",
              " 'these',\n",
              " 'those',\n",
              " 'am',\n",
              " 'is',\n",
              " 'are',\n",
              " 'was',\n",
              " 'were',\n",
              " 'be',\n",
              " 'been',\n",
              " 'being',\n",
              " 'have',\n",
              " 'has',\n",
              " 'had',\n",
              " 'having',\n",
              " 'do',\n",
              " 'does',\n",
              " 'did',\n",
              " 'doing',\n",
              " 'a',\n",
              " 'an',\n",
              " 'the',\n",
              " 'and',\n",
              " 'but',\n",
              " 'if',\n",
              " 'or',\n",
              " 'because',\n",
              " 'as',\n",
              " 'until',\n",
              " 'while',\n",
              " 'of',\n",
              " 'at',\n",
              " 'by',\n",
              " 'for',\n",
              " 'with',\n",
              " 'about',\n",
              " 'against',\n",
              " 'between',\n",
              " 'into',\n",
              " 'through',\n",
              " 'during',\n",
              " 'before',\n",
              " 'after',\n",
              " 'above',\n",
              " 'below',\n",
              " 'to',\n",
              " 'from',\n",
              " 'up',\n",
              " 'down',\n",
              " 'in',\n",
              " 'out',\n",
              " 'on',\n",
              " 'off',\n",
              " 'over',\n",
              " 'under',\n",
              " 'again',\n",
              " 'further',\n",
              " 'then',\n",
              " 'once',\n",
              " 'here',\n",
              " 'there',\n",
              " 'when',\n",
              " 'where',\n",
              " 'why',\n",
              " 'how',\n",
              " 'all',\n",
              " 'any',\n",
              " 'both',\n",
              " 'each',\n",
              " 'few',\n",
              " 'more',\n",
              " 'most',\n",
              " 'other',\n",
              " 'some',\n",
              " 'such',\n",
              " 'no',\n",
              " 'nor',\n",
              " 'not',\n",
              " 'only',\n",
              " 'own',\n",
              " 'same',\n",
              " 'so',\n",
              " 'than',\n",
              " 'too',\n",
              " 'very',\n",
              " 's',\n",
              " 't',\n",
              " 'can',\n",
              " 'will',\n",
              " 'just',\n",
              " 'don',\n",
              " \"don't\",\n",
              " 'should',\n",
              " \"should've\",\n",
              " 'now',\n",
              " 'd',\n",
              " 'll',\n",
              " 'm',\n",
              " 'o',\n",
              " 're',\n",
              " 've',\n",
              " 'y',\n",
              " 'ain',\n",
              " 'aren',\n",
              " \"aren't\",\n",
              " 'couldn',\n",
              " \"couldn't\",\n",
              " 'didn',\n",
              " \"didn't\",\n",
              " 'doesn',\n",
              " \"doesn't\",\n",
              " 'hadn',\n",
              " \"hadn't\",\n",
              " 'hasn',\n",
              " \"hasn't\",\n",
              " 'haven',\n",
              " \"haven't\",\n",
              " 'isn',\n",
              " \"isn't\",\n",
              " 'ma',\n",
              " 'mightn',\n",
              " \"mightn't\",\n",
              " 'mustn',\n",
              " \"mustn't\",\n",
              " 'needn',\n",
              " \"needn't\",\n",
              " 'shan',\n",
              " \"shan't\",\n",
              " 'shouldn',\n",
              " \"shouldn't\",\n",
              " 'wasn',\n",
              " \"wasn't\",\n",
              " 'weren',\n",
              " \"weren't\",\n",
              " 'won',\n",
              " \"won't\",\n",
              " 'wouldn',\n",
              " \"wouldn't\"]"
            ]
          },
          "metadata": {},
          "execution_count": 27
        }
      ],
      "source": [
        "stop_words"
      ]
    },
    {
      "cell_type": "code",
      "execution_count": 28,
      "metadata": {
        "id": "A_End2kUC489"
      },
      "outputs": [],
      "source": [
        "def clean_corpus(corpus):\n",
        "  corpus = [ doc.lower() for doc in corpus]\n",
        "  cleaned_corpus = []\n",
        "  \n",
        "  stop_words = stopwords.words('english')\n",
        "  wordnet_lemmatizer = WordNetLemmatizer()\n",
        "\n",
        "  for doc in corpus:\n",
        "    tokens = word_tokenize(doc)\n",
        "    cleaned_sentence = [] \n",
        "    for token in tokens: \n",
        "      if token not in stop_words and token.isalpha(): \n",
        "        cleaned_sentence.append(wordnet_lemmatizer.lemmatize(token)) \n",
        "    cleaned_corpus.append(' '.join(cleaned_sentence))\n",
        "  return cleaned_corpus"
      ]
    },
    {
      "cell_type": "code",
      "execution_count": 29,
      "metadata": {
        "id": "BklOwtYLC48-"
      },
      "outputs": [],
      "source": [
        "import json\n",
        "with open(\"/content/intents.json\") as file:\n",
        "    intents = json.load(file)"
      ]
    },
    {
      "cell_type": "code",
      "execution_count": 30,
      "metadata": {
        "id": "6CEzIy-WC48_"
      },
      "outputs": [],
      "source": [
        "corpus = []\n",
        "tags = []\n",
        "for intent in intents['intents']:\n",
        "    for pattern in intent['patterns']:\n",
        "        corpus.append(pattern)\n",
        "        tags.append(intent['tag'])"
      ]
    },
    {
      "cell_type": "code",
      "execution_count": 31,
      "metadata": {
        "colab": {
          "base_uri": "https://localhost:8080/"
        },
        "id": "_jqWKIzkC48_",
        "outputId": "206f0fa6-3c85-4662-8235-73ffd58065a2"
      },
      "outputs": [
        {
          "output_type": "execute_result",
          "data": {
            "text/plain": [
              "['hi',\n",
              " 'anyone',\n",
              " 'hey',\n",
              " 'hola',\n",
              " 'hello',\n",
              " 'good day',\n",
              " 'bye',\n",
              " 'see later',\n",
              " 'goodbye',\n",
              " 'nice chatting bye',\n",
              " 'till next time',\n",
              " '',\n",
              " 'thanks',\n",
              " 'thank',\n",
              " 'helpful',\n",
              " 'awesome thanks',\n",
              " 'thanks helping',\n",
              " 'could help',\n",
              " 'help provide',\n",
              " 'helpful',\n",
              " 'support offered',\n",
              " 'please check order status',\n",
              " 'able check order status',\n",
              " 'help order status',\n",
              " 'order status',\n",
              " 'order',\n",
              " 'food',\n",
              " 'track order',\n",
              " 'track food',\n",
              " 'hi want cancel order',\n",
              " 'want cancel order',\n",
              " 'please cancel order',\n",
              " 'cancel order',\n",
              " 'want add delivery instruction',\n",
              " 'please add delivery instruction',\n",
              " 'include delivery instruction',\n",
              " 'tell joke',\n",
              " 'feeling bored',\n",
              " 'joke please',\n",
              " 'make laugh',\n",
              " 'want laugh']"
            ]
          },
          "metadata": {},
          "execution_count": 31
        }
      ],
      "source": [
        "cleaned_corpus = clean_corpus(corpus)\n",
        "cleaned_corpus"
      ]
    },
    {
      "cell_type": "markdown",
      "metadata": {
        "id": "h5nAAo7PB1Kz"
      },
      "source": [
        "# Vectorizing intents"
      ]
    },
    {
      "cell_type": "code",
      "execution_count": 32,
      "metadata": {
        "id": "1Y_ngS1NC49A"
      },
      "outputs": [],
      "source": [
        "from sklearn.feature_extraction.text import TfidfVectorizer\n",
        "vectorizer = TfidfVectorizer()\n",
        "X = vectorizer.fit_transform(cleaned_corpus)"
      ]
    },
    {
      "cell_type": "code",
      "execution_count": 33,
      "metadata": {
        "colab": {
          "base_uri": "https://localhost:8080/"
        },
        "id": "KwhGg0HGubYI",
        "outputId": "77312d14-3a19-4b98-a205-41a6dd244bd0"
      },
      "outputs": [
        {
          "output_type": "execute_result",
          "data": {
            "text/plain": [
              "(41, 45)"
            ]
          },
          "metadata": {},
          "execution_count": 33
        }
      ],
      "source": [
        "X.shape"
      ]
    },
    {
      "cell_type": "code",
      "execution_count": 34,
      "metadata": {
        "id": "8PekvuYZDaAH"
      },
      "outputs": [],
      "source": [
        "from sklearn.preprocessing import OneHotEncoder\n",
        "encoder = OneHotEncoder()\n",
        "y = encoder.fit_transform(np.array(tags).reshape(-1,1))"
      ]
    },
    {
      "cell_type": "markdown",
      "metadata": {
        "id": "BPtJ-gk5B5kN"
      },
      "source": [
        "# Training neural network"
      ]
    },
    {
      "cell_type": "code",
      "execution_count": 35,
      "metadata": {
        "colab": {
          "base_uri": "https://localhost:8080/"
        },
        "id": "RT_NXJApEYdr",
        "outputId": "763fb0c0-66f7-49d5-9596-17d147a604bd"
      },
      "outputs": [
        {
          "output_type": "stream",
          "name": "stdout",
          "text": [
            "Model: \"sequential\"\n",
            "_________________________________________________________________\n",
            " Layer (type)                Output Shape              Param #   \n",
            "=================================================================\n",
            " dense (Dense)               (None, 128)               5888      \n",
            "                                                                 \n",
            " dropout (Dropout)           (None, 128)               0         \n",
            "                                                                 \n",
            " dense_1 (Dense)             (None, 64)                8256      \n",
            "                                                                 \n",
            " dropout_1 (Dropout)         (None, 64)                0         \n",
            "                                                                 \n",
            " dense_2 (Dense)             (None, 8)                 520       \n",
            "                                                                 \n",
            "=================================================================\n",
            "Total params: 14,664\n",
            "Trainable params: 14,664\n",
            "Non-trainable params: 0\n",
            "_________________________________________________________________\n"
          ]
        }
      ],
      "source": [
        "from tensorflow.keras import Sequential\n",
        "from tensorflow.keras.layers import Dense, Dropout\n",
        "\n",
        "model = Sequential([\n",
        "                    Dense(128, input_shape=(X.shape[1],), activation='relu'),\n",
        "                    Dropout(0.2),\n",
        "                    Dense(64, activation='relu'),\n",
        "                    Dropout(0.2),\n",
        "                    Dense(y.shape[1], activation='softmax')\n",
        "])\n",
        "\n",
        "model.compile(loss='categorical_crossentropy', optimizer='adam', metrics=['accuracy'])\n",
        "model.summary()"
      ]
    },
    {
      "cell_type": "code",
      "execution_count": 36,
      "metadata": {
        "colab": {
          "base_uri": "https://localhost:8080/"
        },
        "id": "hQif3TZ2FwbK",
        "outputId": "c16c3af7-bec7-4e4d-bf8d-bd38876619a5"
      },
      "outputs": [
        {
          "output_type": "stream",
          "name": "stdout",
          "text": [
            "Epoch 1/20\n",
            "41/41 [==============================] - 3s 2ms/step - loss: 2.0836 - accuracy: 0.1220\n",
            "Epoch 2/20\n",
            "41/41 [==============================] - 0s 2ms/step - loss: 1.9772 - accuracy: 0.3659\n",
            "Epoch 3/20\n",
            "41/41 [==============================] - 0s 2ms/step - loss: 1.8629 - accuracy: 0.5366\n",
            "Epoch 4/20\n",
            "41/41 [==============================] - 0s 2ms/step - loss: 1.7059 - accuracy: 0.6098\n",
            "Epoch 5/20\n",
            "41/41 [==============================] - 0s 2ms/step - loss: 1.6032 - accuracy: 0.5122\n",
            "Epoch 6/20\n",
            "41/41 [==============================] - 0s 2ms/step - loss: 1.3772 - accuracy: 0.7561\n",
            "Epoch 7/20\n",
            "41/41 [==============================] - 0s 2ms/step - loss: 1.1892 - accuracy: 0.9024\n",
            "Epoch 8/20\n",
            "41/41 [==============================] - 0s 2ms/step - loss: 0.9473 - accuracy: 0.9268\n",
            "Epoch 9/20\n",
            "41/41 [==============================] - 0s 2ms/step - loss: 0.7431 - accuracy: 0.9512\n",
            "Epoch 10/20\n",
            "41/41 [==============================] - 0s 2ms/step - loss: 0.5687 - accuracy: 0.9512\n",
            "Epoch 11/20\n",
            "41/41 [==============================] - 0s 2ms/step - loss: 0.4327 - accuracy: 0.9756\n",
            "Epoch 12/20\n",
            "41/41 [==============================] - 0s 2ms/step - loss: 0.3326 - accuracy: 0.9756\n",
            "Epoch 13/20\n",
            "41/41 [==============================] - 0s 2ms/step - loss: 0.2743 - accuracy: 0.9512\n",
            "Epoch 14/20\n",
            "41/41 [==============================] - 0s 2ms/step - loss: 0.2520 - accuracy: 0.9268\n",
            "Epoch 15/20\n",
            "41/41 [==============================] - 0s 2ms/step - loss: 0.1903 - accuracy: 0.9512\n",
            "Epoch 16/20\n",
            "41/41 [==============================] - 0s 2ms/step - loss: 0.1733 - accuracy: 0.9756\n",
            "Epoch 17/20\n",
            "41/41 [==============================] - 0s 2ms/step - loss: 0.1413 - accuracy: 0.9512\n",
            "Epoch 18/20\n",
            "41/41 [==============================] - 0s 3ms/step - loss: 0.1281 - accuracy: 0.9756\n",
            "Epoch 19/20\n",
            "41/41 [==============================] - 0s 2ms/step - loss: 0.1404 - accuracy: 0.9512\n",
            "Epoch 20/20\n",
            "41/41 [==============================] - 0s 2ms/step - loss: 0.1381 - accuracy: 0.9512\n"
          ]
        }
      ],
      "source": [
        "history = model.fit(X.toarray(), y.toarray(), epochs=20, batch_size=1)"
      ]
    },
    {
      "cell_type": "markdown",
      "metadata": {
        "id": "vhbHBoOhB_hm"
      },
      "source": [
        "# Classifying messages to intent"
      ]
    },
    {
      "cell_type": "code",
      "execution_count": 37,
      "metadata": {
        "colab": {
          "base_uri": "https://localhost:8080/"
        },
        "id": "xoEL5PgKG-sv",
        "outputId": "588229ed-0e0b-41fc-fdac-66c564f8dd64"
      },
      "outputs": [
        {
          "output_type": "stream",
          "name": "stdout",
          "text": [
            "options\n",
            "goodbye\n",
            "order-status-request\n"
          ]
        }
      ],
      "source": [
        "# if prediction for every tag is low, then we want to classify that message as noanswer\n",
        "INTENT_NOT_FOUND_THRESHOLD = 0.40\n",
        "\n",
        "def predict_intent_tag(message):\n",
        "  message = clean_corpus([message])\n",
        "  X_test = vectorizer.transform(message)\n",
        "  y = model.predict(X_test.toarray())\n",
        "  # if probability of all intent is low, classify it as noanswer\n",
        "  if y.max() < INTENT_NOT_FOUND_THRESHOLD:\n",
        "    return 'noanswer'\n",
        "  \n",
        "  prediction = np.zeros_like(y[0])\n",
        "  prediction[y.argmax()] = 1\n",
        "  tag = encoder.inverse_transform([prediction])[0][0]\n",
        "  return tag\n",
        "\n",
        "print(predict_intent_tag('How you could help me?'))\n",
        "print(predict_intent_tag('swiggy chat bot'))\n",
        "print(predict_intent_tag('Where\\'s my order'))\n"
      ]
    },
    {
      "cell_type": "code",
      "execution_count": 38,
      "metadata": {
        "id": "VSM0pSo-P91L"
      },
      "outputs": [],
      "source": [
        "import random\n",
        "import time "
      ]
    },
    {
      "cell_type": "code",
      "execution_count": 39,
      "metadata": {
        "id": "ziNmSPKCLJSz"
      },
      "outputs": [],
      "source": [
        "def get_intent(tag):\n",
        "  # to return complete intent from intent tag\n",
        "  for intent in intents['intents']:\n",
        "    if intent['tag'] == tag:\n",
        "      return intent"
      ]
    },
    {
      "cell_type": "code",
      "execution_count": 40,
      "metadata": {
        "id": "H0x8dXrlPjIp"
      },
      "outputs": [],
      "source": [
        "def perform_action(action_code, intent):\n",
        "  # funition to perform an action which is required by intent\n",
        "  \n",
        "  if action_code == 'CHECK_ORDER_STATUS':\n",
        "    print('\\n Checking database \\n')\n",
        "    time.sleep(2)\n",
        "    order_status = ['in kitchen', 'with delivery executive']\n",
        "    delivery_time = []\n",
        "    return {'intent-tag':intent['next-intent-tag'][0],\n",
        "            'order_status': random.choice(order_status),\n",
        "            'delivery_time': random.randint(10, 30)}\n",
        "  \n",
        "  elif action_code == 'ORDER_CANCEL_CONFIRMATION':\n",
        "    ch = input('BOT: Do you want to continue (Y/n) ?')\n",
        "    if ch == 'y' or ch == 'Y':\n",
        "      choice = 0\n",
        "    else:\n",
        "      choice = 1\n",
        "    return {'intent-tag':intent['next-intent-tag'][choice]}\n",
        "  \n",
        "  elif action_code == 'ADD_DELIVERY_INSTRUCTIONS':\n",
        "    instructions = input('Your Instructions: ')\n",
        "    return {'intent-tag':intent['next-intent-tag'][0]}"
      ]
    },
    {
      "cell_type": "markdown",
      "metadata": {
        "id": "zg_Ct0YQCry5"
      },
      "source": [
        "# Complete chat bot"
      ]
    },
    {
      "cell_type": "code",
      "execution_count": 42,
      "metadata": {
        "id": "axwe43o_JRm6",
        "colab": {
          "base_uri": "https://localhost:8080/"
        },
        "outputId": "03d419cf-1b17-4d92-b908-eeb18cc1a35d"
      },
      "outputs": [
        {
          "output_type": "stream",
          "name": "stdout",
          "text": [
            "You: Hello\n",
            "Bot:  Good to see you again\n",
            "You: How can you help me?\n",
            "Bot:  I can check your order status, and cancel your order.\n",
            "You: check my order status\n",
            "Bot:  I am checking your status of your order, Please wait.\n",
            "\n",
            " Checking database \n",
            "\n",
            "Bot:  Your order is currently in kitchen, it will be delivered in 12 minutes. Do you need any more help?\n",
            "You: I want you to cancel my order\n",
            "Bot:  I can cancel your order, there can be a cancellation fee depending on your order status. I need your final confirmation to confirm your order.\n",
            "BOT: Do you want to continue (Y/n) ?Y\n",
            "Bot:  I have canceled your order, the order refund will reflect in your account in 2 days. Do you need any more help?\n",
            "You: No, thanks\n",
            "Bot:  Happy to help!\n",
            "You: Bye\n",
            "Bot:  See you!\n"
          ]
        }
      ],
      "source": [
        "while True:\n",
        "  message = input('You: ')\n",
        "  tag = predict_intent_tag(message)\n",
        "  # get complete intent from intent tag\n",
        "  intent = get_intent(tag)\n",
        "  response = random.choice(intent['responses'])\n",
        "  print('Bot: ', response)\n",
        "\n",
        "  if 'action' in intent.keys():\n",
        "    action_code = intent['action']\n",
        "\n",
        "    data = perform_action(action_code, intent)\n",
        "    # get follow up intent after performing action\n",
        "    followup_intent = get_intent(data['intent-tag'])\n",
        "    # generate random response from follow up intent\n",
        "    response = random.choice(followup_intent['responses'])\n",
        "\n",
        "    # print randomly selected response\n",
        "    if len(data.keys()) > 1:\n",
        "      print('Bot: ', response.format(**data))\n",
        "    else:\n",
        "      print('Bot: ', response)\n",
        "\n",
        "  \n",
        "  if tag == 'goodbye':\n",
        "    break"
      ]
    }
  ],
  "metadata": {
    "colab": {
      "collapsed_sections": [],
      "name": "Chatbot.ipynb",
      "provenance": [],
      "include_colab_link": true
    },
    "kernelspec": {
      "display_name": "Python 3 (ipykernel)",
      "language": "python",
      "name": "python3"
    },
    "language_info": {
      "codemirror_mode": {
        "name": "ipython",
        "version": 3
      },
      "file_extension": ".py",
      "mimetype": "text/x-python",
      "name": "python",
      "nbconvert_exporter": "python",
      "pygments_lexer": "ipython3",
      "version": "3.9.7"
    },
    "accelerator": "GPU"
  },
  "nbformat": 4,
  "nbformat_minor": 0
}